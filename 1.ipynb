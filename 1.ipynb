{
 "cells": [
  {
   "cell_type": "code",
   "execution_count": 339,
   "id": "8fba7ed1",
   "metadata": {},
   "outputs": [
    {
     "data": {
      "text/html": [
       "<div>\n",
       "<style scoped>\n",
       "    .dataframe tbody tr th:only-of-type {\n",
       "        vertical-align: middle;\n",
       "    }\n",
       "\n",
       "    .dataframe tbody tr th {\n",
       "        vertical-align: top;\n",
       "    }\n",
       "\n",
       "    .dataframe thead th {\n",
       "        text-align: right;\n",
       "    }\n",
       "</style>\n",
       "<table border=\"1\" class=\"dataframe\">\n",
       "  <thead>\n",
       "    <tr style=\"text-align: right;\">\n",
       "      <th></th>\n",
       "      <th>id</th>\n",
       "      <th>date</th>\n",
       "      <th>price</th>\n",
       "      <th>bedrooms</th>\n",
       "      <th>bathrooms</th>\n",
       "      <th>sqft_living</th>\n",
       "      <th>sqft_lot</th>\n",
       "      <th>floors</th>\n",
       "      <th>waterfront</th>\n",
       "      <th>view</th>\n",
       "      <th>...</th>\n",
       "      <th>grade</th>\n",
       "      <th>sqft_above</th>\n",
       "      <th>sqft_basement</th>\n",
       "      <th>yr_built</th>\n",
       "      <th>yr_renovated</th>\n",
       "      <th>zipcode</th>\n",
       "      <th>lat</th>\n",
       "      <th>long</th>\n",
       "      <th>sqft_living15</th>\n",
       "      <th>sqft_lot15</th>\n",
       "    </tr>\n",
       "  </thead>\n",
       "  <tbody>\n",
       "    <tr>\n",
       "      <th>0</th>\n",
       "      <td>7129300520</td>\n",
       "      <td>20141013T000000</td>\n",
       "      <td>221900.0</td>\n",
       "      <td>3</td>\n",
       "      <td>1.00</td>\n",
       "      <td>1180</td>\n",
       "      <td>5650</td>\n",
       "      <td>1.0</td>\n",
       "      <td>0</td>\n",
       "      <td>0</td>\n",
       "      <td>...</td>\n",
       "      <td>7</td>\n",
       "      <td>1180</td>\n",
       "      <td>0</td>\n",
       "      <td>1955</td>\n",
       "      <td>0</td>\n",
       "      <td>98178</td>\n",
       "      <td>47.5112</td>\n",
       "      <td>-122.257</td>\n",
       "      <td>1340</td>\n",
       "      <td>5650</td>\n",
       "    </tr>\n",
       "    <tr>\n",
       "      <th>1</th>\n",
       "      <td>6414100192</td>\n",
       "      <td>20141209T000000</td>\n",
       "      <td>538000.0</td>\n",
       "      <td>3</td>\n",
       "      <td>2.25</td>\n",
       "      <td>2570</td>\n",
       "      <td>7242</td>\n",
       "      <td>2.0</td>\n",
       "      <td>0</td>\n",
       "      <td>0</td>\n",
       "      <td>...</td>\n",
       "      <td>7</td>\n",
       "      <td>2170</td>\n",
       "      <td>400</td>\n",
       "      <td>1951</td>\n",
       "      <td>1991</td>\n",
       "      <td>98125</td>\n",
       "      <td>47.7210</td>\n",
       "      <td>-122.319</td>\n",
       "      <td>1690</td>\n",
       "      <td>7639</td>\n",
       "    </tr>\n",
       "    <tr>\n",
       "      <th>2</th>\n",
       "      <td>5631500400</td>\n",
       "      <td>20150225T000000</td>\n",
       "      <td>180000.0</td>\n",
       "      <td>2</td>\n",
       "      <td>1.00</td>\n",
       "      <td>770</td>\n",
       "      <td>10000</td>\n",
       "      <td>1.0</td>\n",
       "      <td>0</td>\n",
       "      <td>0</td>\n",
       "      <td>...</td>\n",
       "      <td>6</td>\n",
       "      <td>770</td>\n",
       "      <td>0</td>\n",
       "      <td>1933</td>\n",
       "      <td>0</td>\n",
       "      <td>98028</td>\n",
       "      <td>47.7379</td>\n",
       "      <td>-122.233</td>\n",
       "      <td>2720</td>\n",
       "      <td>8062</td>\n",
       "    </tr>\n",
       "    <tr>\n",
       "      <th>3</th>\n",
       "      <td>2487200875</td>\n",
       "      <td>20141209T000000</td>\n",
       "      <td>604000.0</td>\n",
       "      <td>4</td>\n",
       "      <td>3.00</td>\n",
       "      <td>1960</td>\n",
       "      <td>5000</td>\n",
       "      <td>1.0</td>\n",
       "      <td>0</td>\n",
       "      <td>0</td>\n",
       "      <td>...</td>\n",
       "      <td>7</td>\n",
       "      <td>1050</td>\n",
       "      <td>910</td>\n",
       "      <td>1965</td>\n",
       "      <td>0</td>\n",
       "      <td>98136</td>\n",
       "      <td>47.5208</td>\n",
       "      <td>-122.393</td>\n",
       "      <td>1360</td>\n",
       "      <td>5000</td>\n",
       "    </tr>\n",
       "    <tr>\n",
       "      <th>4</th>\n",
       "      <td>1954400510</td>\n",
       "      <td>20150218T000000</td>\n",
       "      <td>510000.0</td>\n",
       "      <td>3</td>\n",
       "      <td>2.00</td>\n",
       "      <td>1680</td>\n",
       "      <td>8080</td>\n",
       "      <td>1.0</td>\n",
       "      <td>0</td>\n",
       "      <td>0</td>\n",
       "      <td>...</td>\n",
       "      <td>8</td>\n",
       "      <td>1680</td>\n",
       "      <td>0</td>\n",
       "      <td>1987</td>\n",
       "      <td>0</td>\n",
       "      <td>98074</td>\n",
       "      <td>47.6168</td>\n",
       "      <td>-122.045</td>\n",
       "      <td>1800</td>\n",
       "      <td>7503</td>\n",
       "    </tr>\n",
       "    <tr>\n",
       "      <th>...</th>\n",
       "      <td>...</td>\n",
       "      <td>...</td>\n",
       "      <td>...</td>\n",
       "      <td>...</td>\n",
       "      <td>...</td>\n",
       "      <td>...</td>\n",
       "      <td>...</td>\n",
       "      <td>...</td>\n",
       "      <td>...</td>\n",
       "      <td>...</td>\n",
       "      <td>...</td>\n",
       "      <td>...</td>\n",
       "      <td>...</td>\n",
       "      <td>...</td>\n",
       "      <td>...</td>\n",
       "      <td>...</td>\n",
       "      <td>...</td>\n",
       "      <td>...</td>\n",
       "      <td>...</td>\n",
       "      <td>...</td>\n",
       "      <td>...</td>\n",
       "    </tr>\n",
       "    <tr>\n",
       "      <th>21608</th>\n",
       "      <td>263000018</td>\n",
       "      <td>20140521T000000</td>\n",
       "      <td>360000.0</td>\n",
       "      <td>3</td>\n",
       "      <td>2.50</td>\n",
       "      <td>1530</td>\n",
       "      <td>1131</td>\n",
       "      <td>3.0</td>\n",
       "      <td>0</td>\n",
       "      <td>0</td>\n",
       "      <td>...</td>\n",
       "      <td>8</td>\n",
       "      <td>1530</td>\n",
       "      <td>0</td>\n",
       "      <td>2009</td>\n",
       "      <td>0</td>\n",
       "      <td>98103</td>\n",
       "      <td>47.6993</td>\n",
       "      <td>-122.346</td>\n",
       "      <td>1530</td>\n",
       "      <td>1509</td>\n",
       "    </tr>\n",
       "    <tr>\n",
       "      <th>21609</th>\n",
       "      <td>6600060120</td>\n",
       "      <td>20150223T000000</td>\n",
       "      <td>400000.0</td>\n",
       "      <td>4</td>\n",
       "      <td>2.50</td>\n",
       "      <td>2310</td>\n",
       "      <td>5813</td>\n",
       "      <td>2.0</td>\n",
       "      <td>0</td>\n",
       "      <td>0</td>\n",
       "      <td>...</td>\n",
       "      <td>8</td>\n",
       "      <td>2310</td>\n",
       "      <td>0</td>\n",
       "      <td>2014</td>\n",
       "      <td>0</td>\n",
       "      <td>98146</td>\n",
       "      <td>47.5107</td>\n",
       "      <td>-122.362</td>\n",
       "      <td>1830</td>\n",
       "      <td>7200</td>\n",
       "    </tr>\n",
       "    <tr>\n",
       "      <th>21610</th>\n",
       "      <td>1523300141</td>\n",
       "      <td>20140623T000000</td>\n",
       "      <td>402101.0</td>\n",
       "      <td>2</td>\n",
       "      <td>0.75</td>\n",
       "      <td>1020</td>\n",
       "      <td>1350</td>\n",
       "      <td>2.0</td>\n",
       "      <td>0</td>\n",
       "      <td>0</td>\n",
       "      <td>...</td>\n",
       "      <td>7</td>\n",
       "      <td>1020</td>\n",
       "      <td>0</td>\n",
       "      <td>2009</td>\n",
       "      <td>0</td>\n",
       "      <td>98144</td>\n",
       "      <td>47.5944</td>\n",
       "      <td>-122.299</td>\n",
       "      <td>1020</td>\n",
       "      <td>2007</td>\n",
       "    </tr>\n",
       "    <tr>\n",
       "      <th>21611</th>\n",
       "      <td>291310100</td>\n",
       "      <td>20150116T000000</td>\n",
       "      <td>400000.0</td>\n",
       "      <td>3</td>\n",
       "      <td>2.50</td>\n",
       "      <td>1600</td>\n",
       "      <td>2388</td>\n",
       "      <td>2.0</td>\n",
       "      <td>0</td>\n",
       "      <td>0</td>\n",
       "      <td>...</td>\n",
       "      <td>8</td>\n",
       "      <td>1600</td>\n",
       "      <td>0</td>\n",
       "      <td>2004</td>\n",
       "      <td>0</td>\n",
       "      <td>98027</td>\n",
       "      <td>47.5345</td>\n",
       "      <td>-122.069</td>\n",
       "      <td>1410</td>\n",
       "      <td>1287</td>\n",
       "    </tr>\n",
       "    <tr>\n",
       "      <th>21612</th>\n",
       "      <td>1523300157</td>\n",
       "      <td>20141015T000000</td>\n",
       "      <td>325000.0</td>\n",
       "      <td>2</td>\n",
       "      <td>0.75</td>\n",
       "      <td>1020</td>\n",
       "      <td>1076</td>\n",
       "      <td>2.0</td>\n",
       "      <td>0</td>\n",
       "      <td>0</td>\n",
       "      <td>...</td>\n",
       "      <td>7</td>\n",
       "      <td>1020</td>\n",
       "      <td>0</td>\n",
       "      <td>2008</td>\n",
       "      <td>0</td>\n",
       "      <td>98144</td>\n",
       "      <td>47.5941</td>\n",
       "      <td>-122.299</td>\n",
       "      <td>1020</td>\n",
       "      <td>1357</td>\n",
       "    </tr>\n",
       "  </tbody>\n",
       "</table>\n",
       "<p>21613 rows × 21 columns</p>\n",
       "</div>"
      ],
      "text/plain": [
       "               id             date     price  bedrooms  bathrooms  \\\n",
       "0      7129300520  20141013T000000  221900.0         3       1.00   \n",
       "1      6414100192  20141209T000000  538000.0         3       2.25   \n",
       "2      5631500400  20150225T000000  180000.0         2       1.00   \n",
       "3      2487200875  20141209T000000  604000.0         4       3.00   \n",
       "4      1954400510  20150218T000000  510000.0         3       2.00   \n",
       "...           ...              ...       ...       ...        ...   \n",
       "21608   263000018  20140521T000000  360000.0         3       2.50   \n",
       "21609  6600060120  20150223T000000  400000.0         4       2.50   \n",
       "21610  1523300141  20140623T000000  402101.0         2       0.75   \n",
       "21611   291310100  20150116T000000  400000.0         3       2.50   \n",
       "21612  1523300157  20141015T000000  325000.0         2       0.75   \n",
       "\n",
       "       sqft_living  sqft_lot  floors  waterfront  view  ...  grade  \\\n",
       "0             1180      5650     1.0           0     0  ...      7   \n",
       "1             2570      7242     2.0           0     0  ...      7   \n",
       "2              770     10000     1.0           0     0  ...      6   \n",
       "3             1960      5000     1.0           0     0  ...      7   \n",
       "4             1680      8080     1.0           0     0  ...      8   \n",
       "...            ...       ...     ...         ...   ...  ...    ...   \n",
       "21608         1530      1131     3.0           0     0  ...      8   \n",
       "21609         2310      5813     2.0           0     0  ...      8   \n",
       "21610         1020      1350     2.0           0     0  ...      7   \n",
       "21611         1600      2388     2.0           0     0  ...      8   \n",
       "21612         1020      1076     2.0           0     0  ...      7   \n",
       "\n",
       "       sqft_above  sqft_basement  yr_built  yr_renovated  zipcode      lat  \\\n",
       "0            1180              0      1955             0    98178  47.5112   \n",
       "1            2170            400      1951          1991    98125  47.7210   \n",
       "2             770              0      1933             0    98028  47.7379   \n",
       "3            1050            910      1965             0    98136  47.5208   \n",
       "4            1680              0      1987             0    98074  47.6168   \n",
       "...           ...            ...       ...           ...      ...      ...   \n",
       "21608        1530              0      2009             0    98103  47.6993   \n",
       "21609        2310              0      2014             0    98146  47.5107   \n",
       "21610        1020              0      2009             0    98144  47.5944   \n",
       "21611        1600              0      2004             0    98027  47.5345   \n",
       "21612        1020              0      2008             0    98144  47.5941   \n",
       "\n",
       "          long  sqft_living15  sqft_lot15  \n",
       "0     -122.257           1340        5650  \n",
       "1     -122.319           1690        7639  \n",
       "2     -122.233           2720        8062  \n",
       "3     -122.393           1360        5000  \n",
       "4     -122.045           1800        7503  \n",
       "...        ...            ...         ...  \n",
       "21608 -122.346           1530        1509  \n",
       "21609 -122.362           1830        7200  \n",
       "21610 -122.299           1020        2007  \n",
       "21611 -122.069           1410        1287  \n",
       "21612 -122.299           1020        1357  \n",
       "\n",
       "[21613 rows x 21 columns]"
      ]
     },
     "execution_count": 339,
     "metadata": {},
     "output_type": "execute_result"
    }
   ],
   "source": [
    "import pandas as pd\n",
    "import matplotlib.pyplot as plt\n",
    "import numpy as np\n",
    "import seaborn as sns\n",
    "df=pd.read_csv('kc_house_data.csv')\n",
    "df"
   ]
  },
  {
   "cell_type": "code",
   "execution_count": 340,
   "id": "606eff79",
   "metadata": {},
   "outputs": [
    {
     "name": "stdout",
     "output_type": "stream",
     "text": [
      "0\n",
      "0\n"
     ]
    }
   ],
   "source": [
    "print(df['sqft_lot'].isnull().sum())\n",
    "print(df['bathrooms'].isnull().sum())"
   ]
  },
  {
   "cell_type": "code",
   "execution_count": 341,
   "id": "cdc723f0",
   "metadata": {},
   "outputs": [],
   "source": [
    "cols = ['sqft_lot', 'bathrooms']\n",
    "n = int(0.05 * len(df))\n",
    "\n",
    "for col in cols:\n",
    "    random_indices = np.random.choice(df.index, n, replace=False)\n",
    "    df.loc[random_indices, col] = np.nan\n"
   ]
  },
  {
   "cell_type": "code",
   "execution_count": 342,
   "id": "523fc2eb",
   "metadata": {},
   "outputs": [
    {
     "name": "stdout",
     "output_type": "stream",
     "text": [
      "1080\n",
      "1080\n"
     ]
    }
   ],
   "source": [
    "print(df['sqft_lot'].isnull().sum())\n",
    "print(df['bathrooms'].isnull().sum())"
   ]
  },
  {
   "cell_type": "code",
   "execution_count": 343,
   "id": "4a4e31de",
   "metadata": {},
   "outputs": [
    {
     "data": {
      "text/plain": [
       "<Axes: >"
      ]
     },
     "execution_count": 343,
     "metadata": {},
     "output_type": "execute_result"
    },
    {
     "data": {
      "image/png": "[encoded data removed]",
      "text/plain": [
       "<Figure size 640x480 with 1 Axes>"
      ]
     },
     "metadata": {},
     "output_type": "display_data"
    }
   ],
   "source": [
    "df['price'].plot.box()"
   ]
  },
  {
   "cell_type": "code",
   "execution_count": 344,
   "id": "e36d811a",
   "metadata": {},
   "outputs": [
    {
     "data": {
      "text/plain": [
       "<Axes: >"
      ]
     },
     "execution_count": 344,
     "metadata": {},
     "output_type": "execute_result"
    },
    {
     "data": {
      "image/png": "[encoded data removed]",
      "text/plain": [
       "<Figure size 640x480 with 1 Axes>"
      ]
     },
     "metadata": {},
     "output_type": "display_data"
    }
   ],
   "source": [
    "df['bedrooms'].plot.box()\n"
   ]
  },
  {
   "cell_type": "code",
   "execution_count": 345,
   "id": "cfc58751",
   "metadata": {},
   "outputs": [
    {
     "data": {
      "text/plain": [
       "<Axes: >"
      ]
     },
     "execution_count": 345,
     "metadata": {},
     "output_type": "execute_result"
    },
    {
     "data": {
      "image/png": "[encoded data removed]",
      "text/plain": [
       "<Figure size 640x480 with 1 Axes>"
      ]
     },
     "metadata": {},
     "output_type": "display_data"
    }
   ],
   "source": [
    "df['sqft_living'].plot.box()\n"
   ]
  },
  {
   "cell_type": "code",
   "execution_count": 346,
   "id": "d42cec50",
   "metadata": {},
   "outputs": [],
   "source": [
    "def remove_outliers(df, column):\n",
    "    Q1 = df[column].quantile(0.25)\n",
    "    Q3 = df[column].quantile(0.75)\n",
    "    IQR = Q3 - Q1\n",
    "    lower = Q1 - 1.5 * IQR\n",
    "    upper = Q3 + 1.5 * IQR\n",
    "    return df[(df[column] >= lower) & (df[column] <= upper)]\n"
   ]
  },
  {
   "cell_type": "code",
   "execution_count": 347,
   "id": "eedf5aa8",
   "metadata": {},
   "outputs": [],
   "source": [
    "df = remove_outliers(df, 'price')\n",
    "df = remove_outliers(df, 'sqft_living')\n",
    "df = remove_outliers(df, 'bedrooms')\n"
   ]
  },
  {
   "cell_type": "code",
   "execution_count": 348,
   "id": "04bf2d61",
   "metadata": {},
   "outputs": [
    {
     "data": {
      "text/plain": [
       "<Axes: >"
      ]
     },
     "execution_count": 348,
     "metadata": {},
     "output_type": "execute_result"
    },
    {
     "data": {
      "image/png": "[encoded data removed]",
      "text/plain": [
       "<Figure size 640x480 with 1 Axes>"
      ]
     },
     "metadata": {},
     "output_type": "display_data"
    }
   ],
   "source": [
    "df['sqft_living'].plot.box()\n"
   ]
  },
  {
   "cell_type": "code",
   "execution_count": 349,
   "id": "e84ee80f",
   "metadata": {},
   "outputs": [
    {
     "name": "stdout",
     "output_type": "stream",
     "text": [
      "<class 'pandas.core.frame.DataFrame'>\n",
      "Index: 19687 entries, 0 to 21612\n",
      "Data columns (total 21 columns):\n",
      " #   Column         Non-Null Count  Dtype  \n",
      "---  ------         --------------  -----  \n",
      " 0   id             19687 non-null  int64  \n",
      " 1   date           19687 non-null  object \n",
      " 2   price          19687 non-null  float64\n",
      " 3   bedrooms       19687 non-null  int64  \n",
      " 4   bathrooms      18697 non-null  float64\n",
      " 5   sqft_living    19687 non-null  int64  \n",
      " 6   sqft_lot       18696 non-null  float64\n",
      " 7   floors         19687 non-null  float64\n",
      " 8   waterfront     19687 non-null  int64  \n",
      " 9   view           19687 non-null  int64  \n",
      " 10  condition      19687 non-null  int64  \n",
      " 11  grade          19687 non-null  int64  \n",
      " 12  sqft_above     19687 non-null  int64  \n",
      " 13  sqft_basement  19687 non-null  int64  \n",
      " 14  yr_built       19687 non-null  int64  \n",
      " 15  yr_renovated   19687 non-null  int64  \n",
      " 16  zipcode        19687 non-null  int64  \n",
      " 17  lat            19687 non-null  float64\n",
      " 18  long           19687 non-null  float64\n",
      " 19  sqft_living15  19687 non-null  int64  \n",
      " 20  sqft_lot15     19687 non-null  int64  \n",
      "dtypes: float64(6), int64(14), object(1)\n",
      "memory usage: 3.3+ MB\n"
     ]
    }
   ],
   "source": [
    "df.info()"
   ]
  },
  {
   "cell_type": "code",
   "execution_count": 350,
   "id": "b4dd309b",
   "metadata": {},
   "outputs": [],
   "source": [
    "df['date'] = pd.to_datetime(df['date'])\n",
    "df['sale_year']=df['date'].dt.year\n",
    "df['sale_month']=df['date'].dt.month\n",
    "df['house_age']=df['sale_year']-df['yr_built']"
   ]
  },
  {
   "cell_type": "code",
   "execution_count": 351,
   "id": "1f70d3c6",
   "metadata": {},
   "outputs": [
    {
     "data": {
      "text/plain": [
       "0        0\n",
       "1        1\n",
       "2        0\n",
       "3        0\n",
       "4        0\n",
       "        ..\n",
       "21608    0\n",
       "21609    0\n",
       "21610    0\n",
       "21611    0\n",
       "21612    0\n",
       "Name: was_renovated, Length: 19687, dtype: int64"
      ]
     },
     "execution_count": 351,
     "metadata": {},
     "output_type": "execute_result"
    }
   ],
   "source": [
    "import numpy as np\n",
    "df['was_renovated'] = np.where(df['yr_renovated'] != 0, 1, 0)\n",
    "df['was_renovated']"
   ]
  },
  {
   "cell_type": "code",
   "execution_count": 352,
   "id": "7800ad61",
   "metadata": {},
   "outputs": [
    {
     "data": {
      "text/plain": [
       "0        59\n",
       "1        23\n",
       "2        82\n",
       "3        49\n",
       "4        28\n",
       "         ..\n",
       "21608     5\n",
       "21609     1\n",
       "21610     5\n",
       "21611    11\n",
       "21612     6\n",
       "Name: age_since_renovation, Length: 19687, dtype: int64"
      ]
     },
     "execution_count": 352,
     "metadata": {},
     "output_type": "execute_result"
    }
   ],
   "source": [
    "df['age_since_renovation']=np.where(df['was_renovated']!=0,df['sale_year']-df['yr_renovated'],df['house_age'])\n",
    "df['age_since_renovation']"
   ]
  },
  {
   "cell_type": "code",
   "execution_count": 353,
   "id": "e0d77fa0",
   "metadata": {},
   "outputs": [
    {
     "data": {
      "text/plain": [
       "0        1180.0\n",
       "1        1285.0\n",
       "2         770.0\n",
       "3        1960.0\n",
       "4        1680.0\n",
       "          ...  \n",
       "21608     510.0\n",
       "21609    1155.0\n",
       "21610     510.0\n",
       "21611     800.0\n",
       "21612     510.0\n",
       "Name: sqft_living_per_floor, Length: 19687, dtype: float64"
      ]
     },
     "execution_count": 353,
     "metadata": {},
     "output_type": "execute_result"
    }
   ],
   "source": [
    "df[\"sqft_living_per_floor\"] = np.where(\n",
    "    df[\"floors\"] != 0,\n",
    "    df[\"sqft_living\"] / df[\"floors\"],\n",
    "    np.nan\n",
    ")\n",
    "df['sqft_living_per_floor']"
   ]
  },
  {
   "cell_type": "code",
   "execution_count": 354,
   "id": "f9c1b110",
   "metadata": {},
   "outputs": [
    {
     "name": "stdout",
     "output_type": "stream",
     "text": [
      "<class 'pandas.core.frame.DataFrame'>\n",
      "Index: 19687 entries, 0 to 21612\n",
      "Data columns (total 28 columns):\n",
      " #   Column                 Non-Null Count  Dtype         \n",
      "---  ------                 --------------  -----         \n",
      " 0   id                     19687 non-null  int64         \n",
      " 1   date                   19687 non-null  datetime64[ns]\n",
      " 2   price                  19687 non-null  float64       \n",
      " 3   bedrooms               19687 non-null  int64         \n",
      " 4   bathrooms              18697 non-null  float64       \n",
      " 5   sqft_living            19687 non-null  int64         \n",
      " 6   sqft_lot               18696 non-null  float64       \n",
      " 7   floors                 19687 non-null  float64       \n",
      " 8   waterfront             19687 non-null  int64         \n",
      " 9   view                   19687 non-null  int64         \n",
      " 10  condition              19687 non-null  int64         \n",
      " 11  grade                  19687 non-null  int64         \n",
      " 12  sqft_above             19687 non-null  int64         \n",
      " 13  sqft_basement          19687 non-null  int64         \n",
      " 14  yr_built               19687 non-null  int64         \n",
      " 15  yr_renovated           19687 non-null  int64         \n",
      " 16  zipcode                19687 non-null  int64         \n",
      " 17  lat                    19687 non-null  float64       \n",
      " 18  long                   19687 non-null  float64       \n",
      " 19  sqft_living15          19687 non-null  int64         \n",
      " 20  sqft_lot15             19687 non-null  int64         \n",
      " 21  sale_year              19687 non-null  int32         \n",
      " 22  sale_month             19687 non-null  int32         \n",
      " 23  house_age              19687 non-null  int64         \n",
      " 24  was_renovated          19687 non-null  int64         \n",
      " 25  age_since_renovation   19687 non-null  int64         \n",
      " 26  sqft_living_per_floor  19687 non-null  float64       \n",
      " 27  bath_per_bed           18697 non-null  float64       \n",
      "dtypes: datetime64[ns](1), float64(8), int32(2), int64(17)\n",
      "memory usage: 4.2 MB\n"
     ]
    }
   ],
   "source": [
    "df['bath_per_bed']=np.where(\n",
    "    df['bedrooms']!=0,\n",
    "    df['bathrooms']/df['bedrooms'],\n",
    "    np.nan\n",
    ")\n",
    "df['bath_per_bed']\n",
    "df.info()"
   ]
  },
  {
   "cell_type": "code",
   "execution_count": 355,
   "id": "32a11d26",
   "metadata": {},
   "outputs": [],
   "source": [
    "numeric_features=['bedrooms','bathrooms','sqft_living','sqft_lot','sqft_living15','sqft_lot15','floors','sqft_above','sqft_basement','house_age','age_since_renovation','sqft_living_per_floor','bath_per_bed']\n",
    "categorical_features=['waterfront','view','condition','grade','zipcode','was_renovated','sale_year','sale_month']\n",
    "passthrough_features=['id','lat','long','yr_renovated','yr_built']"
   ]
  },
  {
   "cell_type": "code",
   "execution_count": 356,
   "id": "44cfc751",
   "metadata": {},
   "outputs": [],
   "source": [
    "from sklearn.pipeline import Pipeline\n",
    "from sklearn.impute import SimpleImputer\n",
    "from sklearn.preprocessing import StandardScaler, OneHotEncoder\n",
    "from sklearn.compose import ColumnTransformer\n",
    "\n",
    "numeric_transformer = Pipeline(steps=[\n",
    "    (\"imputer\", SimpleImputer(strategy=\"median\")),\n",
    "    (\"scaler\", StandardScaler())\n",
    "])\n",
    "\n",
    "categorical_transformer = Pipeline(steps=[\n",
    "    (\"encoder\", OneHotEncoder(handle_unknown=\"ignore\"))\n",
    "])\n",
    "\n",
    "preprocessor = ColumnTransformer(\n",
    "    transformers=[\n",
    "        (\"num\", numeric_transformer, numeric_features),\n",
    "        (\"cat\", categorical_transformer, categorical_features),\n",
    "        (\"passthrough\", \"passthrough\", passthrough_features)\n",
    "    ]\n",
    ")\n"
   ]
  },
  {
   "cell_type": "code",
   "execution_count": 357,
   "id": "bd3e4c0a",
   "metadata": {},
   "outputs": [],
   "source": [
    "from sklearn.model_selection import train_test_split\n",
    "\n",
    "X = df.drop(\"price\", axis=1)\n",
    "y = df[\"price\"]\n",
    "\n",
    "X_train, X_test, y_train, y_test = train_test_split(\n",
    "    X, y, test_size=0.2, random_state=42\n",
    ")\n"
   ]
  },
  {
   "cell_type": "code",
   "execution_count": 358,
   "id": "d31d7563",
   "metadata": {},
   "outputs": [
    {
     "name": "stdout",
     "output_type": "stream",
     "text": [
      "\n",
      "Running RandomizedSearchCV for Random Forest...\n",
      "Fitting 3 folds for each of 5 candidates, totalling 15 fits\n",
      "Random Forest best params: {'regressor__n_estimators': 100, 'regressor__min_samples_split': 2, 'regressor__min_samples_leaf': 2, 'regressor__max_depth': 10}\n",
      "Random Forest best CV RMSE: 83018.68\n",
      "\n",
      "Running RandomizedSearchCV for Gradient Boosting...\n",
      "Fitting 3 folds for each of 5 candidates, totalling 15 fits\n",
      "Gradient Boosting best params: {'regressor__n_estimators': 100, 'regressor__max_depth': 5, 'regressor__learning_rate': 0.1}\n",
      "Gradient Boosting best CV RMSE: 74860.41\n",
      "\n",
      "Running RandomizedSearchCV for XGBoost...\n",
      "Fitting 3 folds for each of 5 candidates, totalling 15 fits\n",
      "XGBoost best params: {'regressor__subsample': 0.8, 'regressor__n_estimators': 100, 'regressor__max_depth': 5, 'regressor__learning_rate': 0.1}\n",
      "XGBoost best CV RMSE: 74800.88\n"
     ]
    }
   ],
   "source": [
    "from sklearn.pipeline import Pipeline\n",
    "from sklearn.model_selection import RandomizedSearchCV\n",
    "from sklearn.ensemble import RandomForestRegressor, GradientBoostingRegressor\n",
    "from xgboost import XGBRegressor\n",
    "\n",
    "models = {\n",
    "    \"Random Forest\": RandomForestRegressor(random_state=42),\n",
    "    \"Gradient Boosting\": GradientBoostingRegressor(random_state=42),\n",
    "    \"XGBoost\": XGBRegressor(random_state=42, verbosity=0)\n",
    "}\n",
    "\n",
    "param_dists = {\n",
    "    \"Random Forest\": {\n",
    "        \"regressor__n_estimators\": [50, 100],\n",
    "        \"regressor__max_depth\": [5, 10],\n",
    "        \"regressor__min_samples_split\": [2, 5],\n",
    "        \"regressor__min_samples_leaf\": [1, 2]\n",
    "    },\n",
    "    \"Gradient Boosting\": {\n",
    "        \"regressor__n_estimators\": [50, 100],\n",
    "        \"regressor__learning_rate\": [0.05, 0.1],\n",
    "        \"regressor__max_depth\": [3, 5]\n",
    "    },\n",
    "    \"XGBoost\": {\n",
    "        \"regressor__n_estimators\": [50, 100],\n",
    "        \"regressor__learning_rate\": [0.05, 0.1],\n",
    "        \"regressor__max_depth\": [3, 5],\n",
    "        \"regressor__subsample\": [0.8, 1.0]\n",
    "    }\n",
    "}\n",
    "\n",
    "best_models = {}\n",
    "n_iter = 5  \n",
    "\n",
    "for name, model in models.items():\n",
    "    pipeline = Pipeline([\n",
    "        (\"preprocessor\", preprocessor),  \n",
    "        (\"regressor\", model)\n",
    "    ])\n",
    "    \n",
    "    search = RandomizedSearchCV(\n",
    "        pipeline,\n",
    "        param_distributions=param_dists[name],\n",
    "        n_iter=n_iter,\n",
    "        cv=3,\n",
    "        scoring=\"neg_mean_squared_error\",\n",
    "        n_jobs=-1,\n",
    "        verbose=2,\n",
    "        random_state=42\n",
    "    )\n",
    "    \n",
    "    print(f\"\\nRunning RandomizedSearchCV for {name}...\")\n",
    "    search.fit(X_train, y_train)\n",
    "    \n",
    "    best_models[name] = search\n",
    "    print(f\"{name} best params: {search.best_params_}\")\n",
    "    print(f\"{name} best CV RMSE: {(-search.best_score_)**0.5:.2f}\")\n"
   ]
  },
  {
   "cell_type": "code",
   "execution_count": null,
   "id": "3e4bd377",
   "metadata": {},
   "outputs": [
    {
     "name": "stdout",
     "output_type": "stream",
     "text": [
      "Best Model: XGBoost\n",
      "Best Hyperparameters: {'regressor__subsample': 0.8, 'regressor__n_estimators': 100, 'regressor__max_depth': 5, 'regressor__learning_rate': 0.1}\n",
      "R2 Score: 0.8663\n",
      "MAE: 53267.14\n",
      "RMSE: 74761.37\n"
     ]
    },
    {
     "data": {
      "image/png": "[encoded data removed]",
      "text/plain": [
       "<Figure size 600x400 with 1 Axes>"
      ]
     },
     "metadata": {},
     "output_type": "display_data"
    },
    {
     "name": "stdout",
     "output_type": "stream",
     "text": [
      "Percentage Improvement in RMSE: -49.52%\n"
     ]
    },
    {
     "data": {
      "image/png": "[encoded data removed]",
      "text/plain": [
       "<Figure size 1000x600 with 1 Axes>"
      ]
     },
     "metadata": {},
     "output_type": "display_data"
    },
    {
     "name": "stdout",
     "output_type": "stream",
     "text": [
      "Top 5 Features:\n",
      "           Feature  Importance\n",
      "2      sqft_living    0.153036\n",
      "120            lat    0.125174\n",
      "28         grade_7    0.044553\n",
      "29         grade_8    0.038657\n",
      "36   zipcode_98004    0.032482\n"
     ]
    }
   ],
   "source": [
    "from sklearn.metrics import r2_score, mean_absolute_error, mean_squared_error\n",
    "import matplotlib.pyplot as plt\n",
    "import numpy as np\n",
    "import pandas as pd\n",
    "\n",
    "best_model_name = min(best_models, key=lambda x: -best_models[x].best_score_)\n",
    "best_model = best_models[best_model_name]\n",
    "\n",
    "print(f\"Best Model: {best_model_name}\")\n",
    "print(\"Best Hyperparameters:\", best_model.best_params_)\n",
    "\n",
    "y_pred = best_model.predict(X_test)\n",
    "\n",
    "r2 = r2_score(y_test, y_pred)\n",
    "mae = mean_absolute_error(y_test, y_pred)\n",
    "rmse = np.sqrt(mean_squared_error(y_test, y_pred))\n",
    "\n",
    "print(f\"R2 Score: {r2:.4f}\")\n",
    "print(f\"MAE: {mae:.2f}\")\n",
    "print(f\"RMSE: {rmse:.2f}\")\n",
    "\n",
    "original_rmse = 50000  \n",
    "\n",
    "comparison_df = pd.DataFrame({\n",
    "    \"Model\": [best_model_name, \"Original Notebook\"],\n",
    "    \"RMSE\": [rmse, original_rmse]\n",
    "})\n",
    "\n",
    "plt.figure(figsize=(6,4))\n",
    "plt.bar(comparison_df['Model'], comparison_df['RMSE'], color=['skyblue', 'orange'])\n",
    "plt.ylabel(\"RMSE\")\n",
    "plt.title(\"Performance Comparison\")\n",
    "plt.show()\n",
    "\n",
    "improvement = (original_rmse - rmse) / original_rmse * 100\n",
    "print(f\"Percentage Improvement in RMSE: {improvement:.2f}%\")\n",
    "\n",
    "if best_model_name in [\"Random Forest\", \"Gradient Boosting\", \"XGBoost\"]:\n",
    "    model = best_model.best_estimator_['regressor']\n",
    "    \n",
    "    feature_names_num = numeric_features\n",
    "    feature_names_cat = best_model.best_estimator_['preprocessor'] \\\n",
    "        .named_transformers_['cat']['encoder'].get_feature_names_out(categorical_features)\n",
    "    feature_names_passthrough = passthrough_features\n",
    "    \n",
    "    all_features = np.concatenate([feature_names_num, feature_names_cat, feature_names_passthrough])\n",
    "    \n",
    "    importances = model.feature_importances_\n",
    "    importance_df = pd.DataFrame({\n",
    "        \"Feature\": all_features,\n",
    "        \"Importance\": importances\n",
    "    }).sort_values(by=\"Importance\", ascending=False)\n",
    "    \n",
    "    plt.figure(figsize=(10,6))\n",
    "    plt.barh(importance_df['Feature'][:10][::-1], importance_df['Importance'][:10][::-1])\n",
    "    plt.xlabel(\"Feature Importance\")\n",
    "    plt.title(f\"Top 10 Features for {best_model_name}\")\n",
    "    plt.show()\n",
    "    \n",
    "    print(\"Top 5 Features:\")\n",
    "    print(importance_df.head(5))\n"
   ]
  },
  {
   "cell_type": "markdown",
   "id": "a7cf3101",
   "metadata": {},
   "source": [
    "Analysis of Top 5 Features"
   ]
  },
  {
   "cell_type": "markdown",
   "id": "54ef4399",
   "metadata": {},
   "source": [
    "sqft_living – Largest influence on house price. Bigger living space directly increases value.\n",
    "\n",
    "lat – Captures location differences; certain neighborhoods in King County are more expensive.\n",
    "\n",
    "grade_7 – Houses with grade 7 construction quality; higher grade indicates better design/finishing.\n",
    "\n",
    "grade_8 – Similar to grade 7; higher construction/quality level contributes to higher price.\n",
    "\n",
    "grade_9 – Even better construction/design; consistent with the trend that better-built houses are costlier."
   ]
  }
 ],
 "metadata": {
  "kernelspec": {
   "display_name": "venv",
   "language": "python",
   "name": "python3"
  },
  "language_info": {
   "codemirror_mode": {
    "name": "ipython",
    "version": 3
   },
   "file_extension": ".py",
   "mimetype": "text/x-python",
   "name": "python",
   "nbconvert_exporter": "python",
   "pygments_lexer": "ipython3",
   "version": "3.13.3"
  }
 },
 "nbformat": 4,
 "nbformat_minor": 5
}
